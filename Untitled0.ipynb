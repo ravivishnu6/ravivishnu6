{
  "nbformat": 4,
  "nbformat_minor": 0,
  "metadata": {
    "colab": {
      "provenance": [],
      "authorship_tag": "ABX9TyMUxYm7EaDCuYETpR9V15oE",
      "include_colab_link": true
    },
    "kernelspec": {
      "name": "python3",
      "display_name": "Python 3"
    },
    "language_info": {
      "name": "python"
    }
  },
  "cells": [
    {
      "cell_type": "markdown",
      "metadata": {
        "id": "view-in-github",
        "colab_type": "text"
      },
      "source": [
        "<a href=\"https://colab.research.google.com/github/ravivishnu6/ravivishnu6/blob/main/Untitled0.ipynb\" target=\"_parent\"><img src=\"https://colab.research.google.com/assets/colab-badge.svg\" alt=\"Open In Colab\"/></a>"
      ]
    },
    {
      "cell_type": "code",
      "execution_count": 1,
      "metadata": {
        "colab": {
          "base_uri": "https://localhost:8080/"
        },
        "id": "NaSkmJbG0YFU",
        "outputId": "588e1973-9d1f-43d0-ecf6-99928b3e72a3"
      },
      "outputs": [
        {
          "output_type": "stream",
          "name": "stdout",
          "text": [
            "[0.32329011 0.07782491 0.82869901 0.93020279 0.70620978 0.15869396\n",
            " 0.07795192 0.84192842 0.9381983  0.28744056]\n"
          ]
        }
      ],
      "source": [
        "# prompt: 10 random numbers using numpy\n",
        "\n",
        "import numpy as np\n",
        "rand_nums = np.random.rand(10)\n",
        "print(rand_nums)\n"
      ]
    },
    {
      "cell_type": "code",
      "source": [
        "# prompt: generate CHATBOT WITH RULE-BASED\n",
        "# RESPONSES\n",
        "\n",
        "import numpy as np\n",
        "\n",
        "rand_nums = np.random.rand(10)\n",
        "print(rand_nums)\n",
        "\n",
        "def chatbot():\n",
        "  print(\"Hi, I'm a chatbot. How can I help you?\")\n",
        "  while True:\n",
        "    user_input = input(\"> \")\n",
        "    if user_input.lower() == \"quit\":\n",
        "      break\n",
        "    elif \"hello\" in user_input.lower():\n",
        "      print(\"hello there\")\n",
        "    elif \"how are you\" in user_input.lower():\n",
        "      print(\"I'm doing well, thanks for asking.\")\n",
        "    elif \"bye\" in user_input.lower():\n",
        "      print(\"Goodbye!\")\n",
        "      break\n",
        "    else:\n",
        "      print(\"I'm not sure I understand. Can you try rephrasing?\")\n",
        "\n",
        "chatbot()\n"
      ],
      "metadata": {
        "colab": {
          "base_uri": "https://localhost:8080/"
        },
        "id": "MQpk0Ukt09tK",
        "outputId": "9218b1af-f550-4101-8b70-1a9686bbb651"
      },
      "execution_count": null,
      "outputs": [
        {
          "output_type": "stream",
          "name": "stdout",
          "text": [
            "[0.04638345 0.61298518 0.39058174 0.32983061 0.67310235 0.11987399\n",
            " 0.2704154  0.12484937 0.0281835  0.2280591 ]\n",
            "Hi, I'm a chatbot. How can I help you?\n",
            "> hello there\n",
            "Hello there!\n",
            "> how are you\n",
            "I'm doing well, thanks for asking.\n",
            "> I'm not sure I understand. Can you try rephrasing\n",
            "I'm not sure I understand. Can you try rephrasing?\n"
          ]
        }
      ]
    }
  ]
}